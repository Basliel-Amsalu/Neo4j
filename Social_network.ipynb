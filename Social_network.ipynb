{
 "cells": [
  {
   "cell_type": "code",
   "execution_count": 5,
   "metadata": {},
   "outputs": [],
   "source": [
    "from neo4j import GraphDatabase"
   ]
  },
  {
   "cell_type": "code",
   "execution_count": 6,
   "metadata": {},
   "outputs": [],
   "source": [
    "URI = \"neo4j+s://398500ef.databases.neo4j.io\"\n",
    "AUTH = (\"neo4j\", \"l_1gCVeywnEgHdmLxf93BdT7kp01G30o5ZpTORaI-y4\")"
   ]
  },
  {
   "cell_type": "code",
   "execution_count": 7,
   "metadata": {},
   "outputs": [],
   "source": [
    "driver = GraphDatabase.driver(URI, auth=(AUTH))"
   ]
  },
  {
   "cell_type": "code",
   "execution_count": 3,
   "metadata": {},
   "outputs": [],
   "source": [
    "def run_query(query, parameters=None):\n",
    "    with driver.session() as session:\n",
    "        results = session.run(query, parameters)\n",
    "        return [dict(record) for record in results]"
   ]
  },
  {
   "cell_type": "code",
   "execution_count": 15,
   "metadata": {},
   "outputs": [],
   "source": [
    "def create_user(name, age, location, interests):\n",
    "    query = \"\"\"\n",
    "            CREATE (u:User {name: $name, age: $age, location: $location, interests: $interests})\n",
    "            RETURN u\n",
    "            \"\"\"\n",
    "    parameters = {\"name\": name, \"age\": age, \"location\":location, \"interests\":interests}\n",
    "    result = run_query(query, parameters)\n",
    "    print(result)"
   ]
  },
  {
   "cell_type": "code",
   "execution_count": 16,
   "metadata": {},
   "outputs": [
    {
     "name": "stdout",
     "output_type": "stream",
     "text": [
      "[{'u': <Node element_id='4:73dec725-ccdf-437b-bfd5-623161b3662c:42' labels=frozenset({'User'}) properties={'name': 'Charlie', 'location': 'New York', 'interests': ['Music', 'Running'], 'age': 22}>}]\n"
     ]
    }
   ],
   "source": []
  },
  {
   "cell_type": "code",
   "execution_count": 17,
   "metadata": {},
   "outputs": [],
   "source": [
    "def update_user(name, **kwargs):\n",
    "    set = \",\".join([f\"u.{key} = ${key}\" for key in kwargs])\n",
    "    query = (\"MATCH (u:User {name: $name}) \"\n",
    "            f\"SET {set} \"\n",
    "            \"RETURN u\")\n",
    "            \n",
    "    parameters = {\"name\": name, **kwargs}\n",
    "    result = run_query(query, parameters)\n",
    "    print(result)"
   ]
  },
  {
   "cell_type": "code",
   "execution_count": 46,
   "metadata": {},
   "outputs": [
    {
     "name": "stdout",
     "output_type": "stream",
     "text": [
      "[{'u': <Node element_id='4:73dec725-ccdf-437b-bfd5-623161b3662c:20' labels=frozenset({'User'}) properties={'name': 'Bob', 'location': 'California', 'interests': ['movies', 'reading'], 'age': 25}>}]\n"
     ]
    }
   ],
   "source": []
  },
  {
   "cell_type": "code",
   "execution_count": 18,
   "metadata": {},
   "outputs": [],
   "source": [
    "def create_friendship(user1, user2):\n",
    "    query = \"\"\"\n",
    "            MATCH (u1:User {name: $user1}),\n",
    "            (u2:User {name: $user2})\n",
    "            CREATE (u1)-[:FRIENDS_WITH]->(u2), (u2)-[:FRIENDS_WITH]->(u1)\n",
    "            RETURN u1, u2\n",
    "            \"\"\"\n",
    "    parameters = {\"user1\": user1, \"user2\": user2}\n",
    "    result = run_query(query, parameters)\n",
    "    print(result)\n"
   ]
  },
  {
   "cell_type": "code",
   "execution_count": 19,
   "metadata": {},
   "outputs": [
    {
     "name": "stdout",
     "output_type": "stream",
     "text": [
      "[{'u1': <Node element_id='4:73dec725-ccdf-437b-bfd5-623161b3662c:20' labels=frozenset({'User'}) properties={'name': 'Bob', 'location': 'California', 'interests': ['movies', 'reading'], 'age': 25}>, 'u2': <Node element_id='4:73dec725-ccdf-437b-bfd5-623161b3662c:42' labels=frozenset({'User'}) properties={'name': 'Charlie', 'location': 'New York', 'interests': ['Music', 'Running'], 'age': 22}>}]\n"
     ]
    }
   ],
   "source": []
  },
  {
   "cell_type": "code",
   "execution_count": 53,
   "metadata": {},
   "outputs": [],
   "source": [
    "def remove_friendship(user1, user2):\n",
    "    query = \"\"\"\n",
    "            MATCH (u1:User {name: $user1})-[r:FRIENDS_WITH]-(u2:User {name: $user2})\n",
    "            DELETE r\n",
    "            \"\"\"\n",
    "    parameters = {\"user1\": user1, \"user2\": user2}\n",
    "    result = run_query(query, parameters)\n",
    "    print(result)"
   ]
  },
  {
   "cell_type": "code",
   "execution_count": 54,
   "metadata": {},
   "outputs": [
    {
     "name": "stdout",
     "output_type": "stream",
     "text": [
      "[]\n"
     ]
    }
   ],
   "source": []
  },
  {
   "cell_type": "code",
   "execution_count": 50,
   "metadata": {},
   "outputs": [],
   "source": [
    "def send_friend_request(user1, user2):\n",
    "    query = \"\"\"\n",
    "            MATCH (u1:User {name: $user1}),\n",
    "            (u2:User {name: $user2})\n",
    "            CREATE (u1)-[:OUTGOING_REQUEST]->(u2), (u2)-[:INCOMING_REQUEST]->(u1)\n",
    "            RETURN u1, u2\n",
    "            \"\"\"\n",
    "    parameters = {\"user1\": user1, \"user2\": user2}\n",
    "    result = run_query(query, parameters)\n",
    "    print(result)"
   ]
  },
  {
   "cell_type": "code",
   "execution_count": 55,
   "metadata": {},
   "outputs": [
    {
     "name": "stdout",
     "output_type": "stream",
     "text": [
      "[{'u1': <Node element_id='4:73dec725-ccdf-437b-bfd5-623161b3662c:19' labels=frozenset({'User'}) properties={'name': 'Alice', 'location': 'New York', 'interests': ['Music', 'Running'], 'age': 32}>, 'u2': <Node element_id='4:73dec725-ccdf-437b-bfd5-623161b3662c:20' labels=frozenset({'User'}) properties={'name': 'Bob', 'location': 'California', 'interests': ['movies', 'reading'], 'age': 25}>}]\n"
     ]
    }
   ],
   "source": []
  },
  {
   "cell_type": "code",
   "execution_count": 59,
   "metadata": {},
   "outputs": [],
   "source": [
    "def respond_to_friend_request(user1, user2, accept):\n",
    "    query = (\n",
    "            \"MATCH (u1:User {name: $from_user})-[r1:OUTGOING_REQUEST]->(u2:User {name: $to_user}) \"\n",
    "            \"MATCH (u2)-[r2:INCOMING_REQUEST]->(u1) \"\n",
    "            \"DELETE r1, r2 \"\n",
    "    )\n",
    "    if accept:\n",
    "        query += \"CREATE (u1)-[:FRIENDS_WITH]->(u2), (u2)-[:FRIENDS_WITH]->(u1)\"\n",
    "    \n",
    "    parameters = {\"from_user\": user1, \"to_user\": user2}\n",
    "    result = run_query(query, parameters)\n",
    "    print(result)"
   ]
  },
  {
   "cell_type": "code",
   "execution_count": 60,
   "metadata": {},
   "outputs": [
    {
     "name": "stdout",
     "output_type": "stream",
     "text": [
      "[]\n"
     ]
    }
   ],
   "source": []
  },
  {
   "cell_type": "code",
   "execution_count": 61,
   "metadata": {},
   "outputs": [],
   "source": [
    "def post(user, post):\n",
    "    query = \"\"\"\n",
    "            MATCH (u:User {name: $user})\n",
    "            CREATE (u)-[:POSTED]->(p:Post {content: $post})\n",
    "            RETURN p.id\n",
    "            \"\"\"\n",
    "    parameters = {\"user\": user, \"post\": post}\n",
    "    result = run_query(query, parameters)\n",
    "    print(result)"
   ]
  },
  {
   "cell_type": "code",
   "execution_count": 72,
   "metadata": {},
   "outputs": [
    {
     "name": "stdout",
     "output_type": "stream",
     "text": [
      "[{'p': <Node element_id='4:73dec725-ccdf-437b-bfd5-623161b3662c:22' labels=frozenset({'Post'}) properties={'content': 'try again'}>}]\n"
     ]
    }
   ],
   "source": []
  },
  {
   "cell_type": "code",
   "execution_count": 77,
   "metadata": {},
   "outputs": [],
   "source": [
    "def like_post(user, post_id):\n",
    "    query = \"\"\"\n",
    "            MATCH (u:User {name: $user})\n",
    "            MATCH (p:Post) WHERE elementId(p) = $post\n",
    "            CREATE (u)-[:LIKED]->(p)\n",
    "            RETURN p\n",
    "            \"\"\"\n",
    "    parameters = {\"user\": user, \"post\": post_id}\n",
    "    result = run_query(query, parameters)\n",
    "    print(result)"
   ]
  },
  {
   "cell_type": "code",
   "execution_count": 78,
   "metadata": {},
   "outputs": [
    {
     "name": "stdout",
     "output_type": "stream",
     "text": [
      "[{'p': <Node element_id='4:73dec725-ccdf-437b-bfd5-623161b3662c:22' labels=frozenset({'Post'}) properties={'content': 'try again'}>}]\n"
     ]
    }
   ],
   "source": []
  },
  {
   "cell_type": "code",
   "execution_count": 1,
   "metadata": {},
   "outputs": [],
   "source": [
    "def create_group(name):\n",
    "    query = \"\"\"\n",
    "            CREATE (g:Group {name: $name})\n",
    "            RETURN g\n",
    "            \"\"\"\n",
    "    parameters = {\"name\": name}\n",
    "    result = run_query(query, parameters)\n",
    "    print(result)"
   ]
  },
  {
   "cell_type": "code",
   "execution_count": 8,
   "metadata": {},
   "outputs": [
    {
     "name": "stdout",
     "output_type": "stream",
     "text": [
      "[{'g': <Node element_id='4:73dec725-ccdf-437b-bfd5-623161b3662c:41' labels=frozenset({'Group'}) properties={'name': 'admin'}>}]\n"
     ]
    }
   ],
   "source": []
  },
  {
   "cell_type": "code",
   "execution_count": 11,
   "metadata": {},
   "outputs": [],
   "source": [
    "def join_group(group, user):\n",
    "    query = \"\"\"\n",
    "            MATCH (g:Group {name: $name})\n",
    "            MATCH (u:User {name: $user})\n",
    "            CREATE (u)-[:MEMBER_OF]->(g)\n",
    "            RETURN u, g\n",
    "            \"\"\"\n",
    "    parameters = {\"name\": group, \"user\": user}\n",
    "    result = run_query(query, parameters)\n",
    "    print(result)"
   ]
  },
  {
   "cell_type": "code",
   "execution_count": 10,
   "metadata": {},
   "outputs": [
    {
     "name": "stdout",
     "output_type": "stream",
     "text": [
      "[{'u': <Node element_id='4:73dec725-ccdf-437b-bfd5-623161b3662c:19' labels=frozenset({'User'}) properties={'name': 'Alice', 'location': 'New York', 'interests': ['Music', 'Running'], 'age': 32}>, 'g': <Node element_id='4:73dec725-ccdf-437b-bfd5-623161b3662c:41' labels=frozenset({'Group'}) properties={'name': 'admin'}>}]\n"
     ]
    }
   ],
   "source": []
  },
  {
   "cell_type": "code",
   "execution_count": 12,
   "metadata": {},
   "outputs": [],
   "source": [
    "def comment_on_post(user, post, comment):\n",
    "    query = \"\"\"\n",
    "            MATCH (u:User {name: $user})\n",
    "            MATCH (p:Post) WHERE elementId(p) = $post\n",
    "            CREATE (u) -[:COMMENTED{comment: $comment}]-> (p)\n",
    "            RETURN p\n",
    "            \"\"\"\n",
    "    parameters = {\"user\": user, \"post\": post, \"comment\": comment }\n",
    "    result = run_query(query, parameters)\n",
    "    print(result)"
   ]
  },
  {
   "cell_type": "code",
   "execution_count": 13,
   "metadata": {},
   "outputs": [
    {
     "name": "stdout",
     "output_type": "stream",
     "text": [
      "[{'p': <Node element_id='4:73dec725-ccdf-437b-bfd5-623161b3662c:22' labels=frozenset({'Post'}) properties={'content': 'try again'}>}]\n"
     ]
    }
   ],
   "source": []
  },
  {
   "cell_type": "code",
   "execution_count": 22,
   "metadata": {},
   "outputs": [],
   "source": [
    "def friend_recommendation(user):\n",
    "    query = \"\"\"\n",
    "            MATCH (u:User{name:$user})-[:FRIENDS_WITH] -> (u2) <-[:FRIENDS_WITH]- (ru)\n",
    "            WHERE NOT (u)-[:FRIENDS_WITH] -> (ru) and u <> ru\n",
    "            RETURN ru\n",
    "            \"\"\"\n",
    "    parameters = {\"user\": user}\n",
    "    result = run_query(query, parameters)\n",
    "    print(result)"
   ]
  },
  {
   "cell_type": "code",
   "execution_count": 23,
   "metadata": {},
   "outputs": [
    {
     "name": "stdout",
     "output_type": "stream",
     "text": [
      "[{'ru': <Node element_id='4:73dec725-ccdf-437b-bfd5-623161b3662c:42' labels=frozenset({'User'}) properties={'name': 'Charlie', 'location': 'New York', 'interests': ['Music', 'Running'], 'age': 22}>}]\n"
     ]
    }
   ],
   "source": []
  },
  {
   "cell_type": "code",
   "execution_count": 27,
   "metadata": {},
   "outputs": [],
   "source": []
  },
  {
   "cell_type": "code",
   "execution_count": 28,
   "metadata": {},
   "outputs": [
    {
     "name": "stdout",
     "output_type": "stream",
     "text": [
      "[{'u': <Node element_id='4:73dec725-ccdf-437b-bfd5-623161b3662c:19' labels=frozenset({'User'}) properties={'name': 'Alice', 'location': 'New York', 'interests': ['Music', 'Running'], 'age': 32}>}]\n"
     ]
    }
   ],
   "source": []
  }
 ],
 "metadata": {
  "kernelspec": {
   "display_name": "Python 3",
   "language": "python",
   "name": "python3"
  },
  "language_info": {
   "codemirror_mode": {
    "name": "ipython",
    "version": 3
   },
   "file_extension": ".py",
   "mimetype": "text/x-python",
   "name": "python",
   "nbconvert_exporter": "python",
   "pygments_lexer": "ipython3",
   "version": "3.12.0"
  }
 },
 "nbformat": 4,
 "nbformat_minor": 2
}
