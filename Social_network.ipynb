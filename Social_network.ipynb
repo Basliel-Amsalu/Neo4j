{
 "cells": [
  {
   "cell_type": "code",
   "execution_count": 139,
   "metadata": {},
   "outputs": [],
   "source": [
    "from flask import Flask, request, jsonify\n",
    "from neo4j import GraphDatabase\n",
    "import nest_asyncio\n",
    "import threading\n",
    "\n",
    "nest_asyncio.apply()"
   ]
  },
  {
   "cell_type": "code",
   "execution_count": 140,
   "metadata": {},
   "outputs": [],
   "source": [
    "URI = \"neo4j+s://398500ef.databases.neo4j.io\"\n",
    "AUTH = (\"neo4j\", \"l_1gCVeywnEgHdmLxf93BdT7kp01G30o5ZpTORaI-y4\")"
   ]
  },
  {
   "cell_type": "code",
   "execution_count": 141,
   "metadata": {},
   "outputs": [],
   "source": [
    "driver = GraphDatabase.driver(URI, auth=(AUTH))"
   ]
  },
  {
   "cell_type": "code",
   "execution_count": 142,
   "metadata": {},
   "outputs": [],
   "source": [
    "def run_query(query, parameters=None):\n",
    "    with driver.session() as session:\n",
    "        results = session.run(query, parameters)\n",
    "        return [dict(record) for record in results]"
   ]
  },
  {
   "cell_type": "code",
   "execution_count": 143,
   "metadata": {},
   "outputs": [],
   "source": [
    "def create_user(name, age, location, interests):\n",
    "    try:\n",
    "        query = \"\"\"\n",
    "                CREATE (u:User {name: $name, age: $age, location: $location, interests: $interests})\n",
    "                RETURN u\n",
    "                \"\"\"\n",
    "        parameters = {\"name\": name, \"age\": age, \"location\":location, \"interests\":interests}\n",
    "        run_query(query, parameters)\n",
    "    except Exception as e:\n",
    "        raise RuntimeError(f\"Error creating friendship: {str(e)}\")"
   ]
  },
  {
   "cell_type": "code",
   "execution_count": 144,
   "metadata": {},
   "outputs": [],
   "source": [
    "def update_user(name, **kwargs):\n",
    "    try:\n",
    "        set = \",\".join([f\"u.{key} = ${key}\" for key in kwargs])\n",
    "        query = (\"MATCH (u:User {name: $name}) \"\n",
    "                f\"SET {set} \"\n",
    "                \"RETURN u\")\n",
    "                \n",
    "        parameters = {\"name\": name, **kwargs}\n",
    "        run_query(query, parameters)\n",
    "    except Exception as e:\n",
    "        raise RuntimeError(f\"Error updating user: {str(e)}\")\n",
    "    "
   ]
  },
  {
   "cell_type": "code",
   "execution_count": 145,
   "metadata": {},
   "outputs": [],
   "source": [
    "def create_friendship(user1, user2):\n",
    "    query = \"\"\"\n",
    "            MATCH (u1:User {name: $user1}),\n",
    "            (u2:User {name: $user2})\n",
    "            CREATE (u1)-[:FRIENDS_WITH]->(u2), (u2)-[:FRIENDS_WITH]->(u1)\n",
    "            RETURN u1, u2\n",
    "            \"\"\"\n",
    "    parameters = {\"user1\": user1, \"user2\": user2}\n",
    "    run_query(query, parameters)\n",
    "   \n"
   ]
  },
  {
   "cell_type": "code",
   "execution_count": 146,
   "metadata": {},
   "outputs": [],
   "source": [
    "def remove_friendship(user1, user2):\n",
    "    query = \"\"\"\n",
    "            MATCH (u1:User {name: $user1})-[r:FRIENDS_WITH]-(u2:User {name: $user2})\n",
    "            DELETE r\n",
    "            \"\"\"\n",
    "    parameters = {\"user1\": user1, \"user2\": user2}\n",
    "    result = run_query(query, parameters)\n",
    "    print(result)"
   ]
  },
  {
   "cell_type": "code",
   "execution_count": 147,
   "metadata": {},
   "outputs": [],
   "source": [
    "def send_friend_request(user1, user2):\n",
    "    query = \"\"\"\n",
    "            MATCH (u1:User {name: $user1}),\n",
    "            (u2:User {name: $user2})\n",
    "            CREATE (u1)-[:OUTGOING_REQUEST]->(u2), (u2)-[:INCOMING_REQUEST]->(u1)\n",
    "            RETURN u1, u2\n",
    "            \"\"\"\n",
    "    parameters = {\"user1\": user1, \"user2\": user2}\n",
    "    result = run_query(query, parameters)\n",
    "    print(result)"
   ]
  },
  {
   "cell_type": "code",
   "execution_count": 148,
   "metadata": {},
   "outputs": [],
   "source": [
    "def respond_to_friend_request(user1, user2, accept):\n",
    "    query = (\n",
    "            \"MATCH (u1:User {name: $from_user})-[r1:OUTGOING_REQUEST]->(u2:User {name: $to_user}) \"\n",
    "            \"MATCH (u2)-[r2:INCOMING_REQUEST]->(u1) \"\n",
    "            \"DELETE r1, r2 \"\n",
    "    )\n",
    "    if accept:\n",
    "        query += \"CREATE (u1)-[:FRIENDS_WITH]->(u2), (u2)-[:FRIENDS_WITH]->(u1)\"\n",
    "    \n",
    "    parameters = {\"from_user\": user1, \"to_user\": user2}\n",
    "    result = run_query(query, parameters)\n",
    "    print(result)"
   ]
  },
  {
   "cell_type": "code",
   "execution_count": 175,
   "metadata": {},
   "outputs": [],
   "source": [
    "def post(user, post):\n",
    "    query = \"\"\"\n",
    "            MATCH (u:User {name: $user})\n",
    "            CREATE (u)-[:POSTED]->(p:Post {content: $post, no_of_likes: 0, comments: []})\n",
    "            RETURN p.id\n",
    "            \"\"\"\n",
    "    parameters = {\"user\": user, \"post\": post}\n",
    "    result = run_query(query, parameters)\n",
    "    print(result)"
   ]
  },
  {
   "cell_type": "code",
   "execution_count": 183,
   "metadata": {},
   "outputs": [],
   "source": [
    "def like_post(user, post_id):\n",
    "    query = \"\"\"\n",
    "            MATCH (u:User {name: $user})\n",
    "            MATCH (p:Post) WHERE elementId(p) = $post\n",
    "            SET p.no_of_likes = coalesce(p.no_of_likes, 0) + 1\n",
    "            CREATE (u)-[:LIKED]->(p)\n",
    "            RETURN p\n",
    "            \"\"\"\n",
    "    parameters = {\"user\": user, \"post\": post_id}\n",
    "    result = run_query(query, parameters)\n",
    "    print(result)"
   ]
  },
  {
   "cell_type": "code",
   "execution_count": 151,
   "metadata": {},
   "outputs": [],
   "source": [
    "def create_group(name):\n",
    "    query = \"\"\"\n",
    "            CREATE (g:Group {name: $name})\n",
    "            RETURN g\n",
    "            \"\"\"\n",
    "    parameters = {\"name\": name}\n",
    "    result = run_query(query, parameters)\n",
    "    print(result)"
   ]
  },
  {
   "cell_type": "code",
   "execution_count": 152,
   "metadata": {},
   "outputs": [],
   "source": [
    "def join_group(group, user):\n",
    "    query = \"\"\"\n",
    "            MATCH (g:Group {name: $name})\n",
    "            MATCH (u:User {name: $user})\n",
    "            CREATE (u)-[:MEMBER_OF]->(g)\n",
    "            RETURN u, g\n",
    "            \"\"\"\n",
    "    parameters = {\"name\": group, \"user\": user}\n",
    "    result = run_query(query, parameters)\n",
    "    print(result)"
   ]
  },
  {
   "cell_type": "code",
   "execution_count": 185,
   "metadata": {},
   "outputs": [],
   "source": [
    "def comment_on_post(user, post, comment):\n",
    "    query = \"\"\"\n",
    "            MATCH (u:User {name: $user})\n",
    "            MATCH (p:Post) WHERE elementId(p) = $post\n",
    "            CREATE (u) -[:COMMENTED{comment: $comment}]-> (p)\n",
    "            SET p.comments = coalesce(p.comments, []) + [$comment]\n",
    "            RETURN p\n",
    "            \"\"\"\n",
    "    parameters = {\"user\": user, \"post\": post, \"comment\": comment }\n",
    "    result = run_query(query, parameters)\n",
    "    print(result)"
   ]
  },
  {
   "cell_type": "code",
   "execution_count": 154,
   "metadata": {},
   "outputs": [],
   "source": [
    "def friend_recommendation(user):\n",
    "    query = \"\"\"\n",
    "            MATCH (u:User{name:$user})-[:FRIENDS_WITH] -> (u2) <-[:FRIENDS_WITH]- (ru)\n",
    "            WHERE NOT (u)-[:FRIENDS_WITH] -> (ru) and u <> ru\n",
    "            RETURN ru\n",
    "            \"\"\"\n",
    "    parameters = {\"user\": user}\n",
    "    result = run_query(query, parameters)\n",
    "    print(result)"
   ]
  },
  {
   "cell_type": "code",
   "execution_count": 155,
   "metadata": {},
   "outputs": [],
   "source": [
    "def search_user(**kwargs):\n",
    "    where = \",\".join([f\"u.{key} = ${key}\" for key in kwargs])\n",
    "    query = (\n",
    "        \"MATCH (u:User) \"\n",
    "        f\"WHERE {where} \"\n",
    "        \"RETURN u\"\n",
    "    )\n",
    "\n",
    "    parameters = {**kwargs}\n",
    "    result = run_query(query,parameters)\n",
    "    print(result)"
   ]
  },
  {
   "cell_type": "code",
   "execution_count": 156,
   "metadata": {},
   "outputs": [],
   "source": [
    "app = Flask(__name__)"
   ]
  },
  {
   "cell_type": "code",
   "execution_count": 157,
   "metadata": {},
   "outputs": [],
   "source": [
    "@app.route('/register', methods=['POST'])\n",
    "def register_user():\n",
    "    data = request.json\n",
    "    create_user(data['name'], data['age'], data['location'], data['interests'])\n",
    "    return jsonify({'status': 'User registered'})\n"
   ]
  },
  {
   "cell_type": "code",
   "execution_count": 158,
   "metadata": {},
   "outputs": [],
   "source": [
    "@app.route('/update', methods=['POST'])\n",
    "def update_user_info():\n",
    "    data = request.json\n",
    "    update_user(data['name'], **data['update'])\n",
    "    return jsonify({'status': 'User information updated'})"
   ]
  },
  {
   "cell_type": "code",
   "execution_count": 159,
   "metadata": {},
   "outputs": [],
   "source": [
    "@app.route('/friends', methods=['POST'])\n",
    "def create_friendship_handler():\n",
    "    data = request.json\n",
    "    create_friendship(data['user1'], data['user2'])\n",
    "    return jsonify({'status': 'Friendship created'})"
   ]
  },
  {
   "cell_type": "code",
   "execution_count": 160,
   "metadata": {},
   "outputs": [],
   "source": [
    "@app.route('/friends', methods=['DELETE'])\n",
    "def remove_friendship_handler():\n",
    "    data = request.json\n",
    "    remove_friendship(data['user1'], data['user2'])\n",
    "    return jsonify({'status': 'Friendship removed'})"
   ]
  },
  {
   "cell_type": "code",
   "execution_count": 161,
   "metadata": {},
   "outputs": [],
   "source": [
    "@app.route('/sendrequest', methods=['POST'])\n",
    "def send_friend_request_handler():\n",
    "    data = request.json\n",
    "    send_friend_request(data[\"user1\"], data[\"user2\"])\n",
    "    return jsonify({'status': 'Friend request sent'})"
   ]
  },
  {
   "cell_type": "code",
   "execution_count": 162,
   "metadata": {},
   "outputs": [],
   "source": [
    "@app.route('/respondrequest', methods=['POST'])\n",
    "def respond_friend_request_handler():\n",
    "    data = request.json\n",
    "    respond_to_friend_request(data[\"user1\"], data[\"user2\"], data[\"accept\"])\n",
    "    return jsonify({'status': 'responded to friend request '})"
   ]
  },
  {
   "cell_type": "code",
   "execution_count": 163,
   "metadata": {},
   "outputs": [],
   "source": [
    "@app.route('/post', methods=['POST'])\n",
    "def post_handler():\n",
    "    data = request.json\n",
    "    post(data[\"user\"], data[\"post\"])\n",
    "    return jsonify({'status': 'post created'})"
   ]
  },
  {
   "cell_type": "code",
   "execution_count": 164,
   "metadata": {},
   "outputs": [],
   "source": [
    "@app.route('/post/like', methods=['POST'])\n",
    "def like_post_handler():\n",
    "    data = request.json\n",
    "    like_post(data[\"user\"], data[\"post\"])\n",
    "    return jsonify({'status': 'post liked'})\n",
    "    "
   ]
  },
  {
   "cell_type": "code",
   "execution_count": 165,
   "metadata": {},
   "outputs": [],
   "source": [
    "@app.route('/group/create', methods=['POST'])\n",
    "def create_group_handler():\n",
    "    data = request.json\n",
    "    create_group(data[\"name\"])\n",
    "    return jsonify({'status': 'group created'})"
   ]
  },
  {
   "cell_type": "code",
   "execution_count": 166,
   "metadata": {},
   "outputs": [],
   "source": [
    "@app.route('/group/join', methods=['POST'])\n",
    "def join_group_handler():\n",
    "    data = request.json\n",
    "    join_group(data[\"group\"], data[\"user\"])\n",
    "    return jsonify({'status': 'user joined group'})"
   ]
  },
  {
   "cell_type": "code",
   "execution_count": 167,
   "metadata": {},
   "outputs": [],
   "source": [
    "@app.route('/post/comment', methods=['POST'])\n",
    "def comment_on_post_handler():\n",
    "    data = request.json\n",
    "    comment_on_post(data[\"user\"], data[\"post\"], data[\"comment\"])\n",
    "    return jsonify({'status': 'commented on post'})"
   ]
  },
  {
   "cell_type": "code",
   "execution_count": 168,
   "metadata": {},
   "outputs": [],
   "source": [
    "@app.route('/friend/recommendation', methods=['POST'])\n",
    "def friend_recommendation_handler():\n",
    "    data = request.json\n",
    "    friend_recommendation(data[\"user\"])\n",
    "    return jsonify({'status': 'recommended friends'})"
   ]
  },
  {
   "cell_type": "code",
   "execution_count": 169,
   "metadata": {},
   "outputs": [],
   "source": [
    "@app.route('/search', methods=['POST'])\n",
    "def create_friendship():\n",
    "    data = request.json\n",
    "    search_user(**data)\n",
    "    return jsonify({'status': 'searched user'})"
   ]
  },
  {
   "cell_type": "code",
   "execution_count": null,
   "metadata": {},
   "outputs": [
    {
     "name": "stdout",
     "output_type": "stream",
     "text": [
      " * Serving Flask app '__main__'\n"
     ]
    },
    {
     "name": "stdout",
     "output_type": "stream",
     "text": [
      " * Debug mode: off\n"
     ]
    },
    {
     "name": "stderr",
     "output_type": "stream",
     "text": [
      "WARNING: This is a development server. Do not use it in a production deployment. Use a production WSGI server instead.\n",
      " * Running on http://127.0.0.1:8080\n",
      "Press CTRL+C to quit\n"
     ]
    }
   ],
   "source": [
    "def run_app():\n",
    "    app.run(port=8080)\n",
    "\n",
    "thread = threading.Thread(target=run_app)\n",
    "thread.start()"
   ]
  },
  {
   "cell_type": "code",
   "execution_count": 177,
   "metadata": {},
   "outputs": [
    {
     "name": "stdout",
     "output_type": "stream",
     "text": [
      "{'status': 'User registered'}\n"
     ]
    }
   ],
   "source": [
    "import requests\n",
    "\n",
    "response = requests.post('http://localhost:8080/register', json={\n",
    "    'name': 'john',\n",
    "    'age': 21,\n",
    "    'location': 'Ethiopia',\n",
    "    'interests': ['reading', 'hiking']\n",
    "})\n",
    "print(response.json())"
   ]
  },
  {
   "cell_type": "code",
   "execution_count": null,
   "metadata": {},
   "outputs": [
    {
     "name": "stdout",
     "output_type": "stream",
     "text": [
      "{'status': 'User information updated'}\n"
     ]
    }
   ],
   "source": [
    "response = requests.post('http://localhost:8080/update', json={\n",
    "    'name': 'liel',\n",
    "    'update': {\n",
    "        'age': 50,\n",
    "        'location': 'San Francisco'\n",
    "    }\n",
    "})\n",
    "print(response.json())"
   ]
  },
  {
   "cell_type": "code",
   "execution_count": null,
   "metadata": {},
   "outputs": [
    {
     "name": "stderr",
     "output_type": "stream",
     "text": [
      "127.0.0.1 - - [05/Jun/2024 09:49:39] \"POST /friends HTTP/1.1\" 200 -\n",
      "127.0.0.1 - - [05/Jun/2024 09:50:29] \"POST /sendrequest HTTP/1.1\" 200 -\n"
     ]
    },
    {
     "name": "stdout",
     "output_type": "stream",
     "text": [
      "{'status': 'Friendship created'}\n"
     ]
    }
   ],
   "source": [
    "response = requests.post('http://localhost:8080/friends', json={\n",
    "    'user1': 'Chappie',\n",
    "    'user2': 'Charlie'\n",
    "})\n",
    "print(response.json())"
   ]
  },
  {
   "cell_type": "code",
   "execution_count": null,
   "metadata": {},
   "outputs": [
    {
     "name": "stdout",
     "output_type": "stream",
     "text": [
      "[]\n"
     ]
    },
    {
     "name": "stdout",
     "output_type": "stream",
     "text": [
      "{'status': 'Friendship removed'}\n"
     ]
    }
   ],
   "source": [
    "response = requests.delete('http://localhost:8080/friends', json={\n",
    "    'user1': 'Chappie',\n",
    "    'user2': 'Charlie'\n",
    "})\n",
    "print(response.json())"
   ]
  },
  {
   "cell_type": "code",
   "execution_count": null,
   "metadata": {},
   "outputs": [
    {
     "name": "stderr",
     "output_type": "stream",
     "text": [
      "127.0.0.1 - - [05/Jun/2024 09:54:41] \"POST /sendrequest HTTP/1.1\" 200 -\n"
     ]
    },
    {
     "name": "stdout",
     "output_type": "stream",
     "text": [
      "[{'u1': <Node element_id='4:73dec725-ccdf-437b-bfd5-623161b3662c:95' labels=frozenset({'User'}) properties={'name': 'liel', 'location': 'San Francisco', 'interests': ['reading', 'hiking'], 'age': 50}>, 'u2': <Node element_id='4:73dec725-ccdf-437b-bfd5-623161b3662c:42' labels=frozenset({'User'}) properties={'name': 'Charlie', 'location': 'New York', 'interests': ['Music', 'Running'], 'age': 22}>}]\n"
     ]
    },
    {
     "name": "stdout",
     "output_type": "stream",
     "text": [
      "{'status': 'Friend request sent'}\n"
     ]
    }
   ],
   "source": [
    "response = requests.post('http://localhost:8080/sendrequest', json={\n",
    "    'user1': 'liel',\n",
    "    'user2': 'Charlie'\n",
    "})\n",
    "print(response.json())"
   ]
  },
  {
   "cell_type": "code",
   "execution_count": null,
   "metadata": {},
   "outputs": [
    {
     "name": "stderr",
     "output_type": "stream",
     "text": [
      "127.0.0.1 - - [05/Jun/2024 09:55:08] \"POST /respondrequest HTTP/1.1\" 200 -\n"
     ]
    },
    {
     "name": "stdout",
     "output_type": "stream",
     "text": [
      "[]\n"
     ]
    },
    {
     "name": "stdout",
     "output_type": "stream",
     "text": [
      "{'status': 'responded to friend request '}\n"
     ]
    }
   ],
   "source": [
    "response = requests.post('http://localhost:8080/respondrequest', json={\n",
    "    'user1': 'liel',\n",
    "    'user2': 'Charlie',\n",
    "    'accept': True\n",
    "})\n",
    "print(response.json())"
   ]
  },
  {
   "cell_type": "code",
   "execution_count": 178,
   "metadata": {},
   "outputs": [
    {
     "name": "stdout",
     "output_type": "stream",
     "text": [
      "{'status': 'post created'}\n"
     ]
    }
   ],
   "source": [
    "response = requests.post('http://localhost:8080/post', json={\n",
    "    'user': 'Charlie',\n",
    "    'post': 'this is a test post'\n",
    "})\n",
    "print(response.json())"
   ]
  },
  {
   "cell_type": "code",
   "execution_count": 184,
   "metadata": {},
   "outputs": [
    {
     "name": "stdout",
     "output_type": "stream",
     "text": [
      "{'status': 'post liked'}\n"
     ]
    }
   ],
   "source": [
    "response = requests.post('http://localhost:8080/post/like', json={\n",
    "    'user': 'Alice',\n",
    "    'post': '4:73dec725-ccdf-437b-bfd5-623161b3662c:118'\n",
    "})\n",
    "print(response.json())"
   ]
  },
  {
   "cell_type": "code",
   "execution_count": 187,
   "metadata": {},
   "outputs": [
    {
     "name": "stdout",
     "output_type": "stream",
     "text": [
      "{'status': 'commented on post'}\n"
     ]
    }
   ],
   "source": [
    "response = requests.post('http://localhost:8080/post/comment', json={\n",
    "    'user': 'liel',\n",
    "    'post': '4:73dec725-ccdf-437b-bfd5-623161b3662c:118',\n",
    "    'comment': 'cool post'\n",
    "})\n",
    "print(response.json())"
   ]
  },
  {
   "cell_type": "code",
   "execution_count": null,
   "metadata": {},
   "outputs": [
    {
     "name": "stderr",
     "output_type": "stream",
     "text": [
      "127.0.0.1 - - [05/Jun/2024 10:07:41] \"POST /group/create HTTP/1.1\" 200 -\n"
     ]
    },
    {
     "name": "stdout",
     "output_type": "stream",
     "text": [
      "[{'g': <Node element_id='4:73dec725-ccdf-437b-bfd5-623161b3662c:104' labels=frozenset({'Group'}) properties={'name': 'interesting'}>}]\n"
     ]
    },
    {
     "name": "stdout",
     "output_type": "stream",
     "text": [
      "{'status': 'group created'}\n"
     ]
    }
   ],
   "source": [
    "response = requests.post('http://localhost:8080/group/create', json={\n",
    "    'name': 'interesting'\n",
    "})\n",
    "print(response.json())"
   ]
  },
  {
   "cell_type": "code",
   "execution_count": null,
   "metadata": {},
   "outputs": [
    {
     "name": "stderr",
     "output_type": "stream",
     "text": [
      "127.0.0.1 - - [05/Jun/2024 10:09:46] \"POST /group/join HTTP/1.1\" 200 -\n"
     ]
    },
    {
     "name": "stdout",
     "output_type": "stream",
     "text": [
      "[{'u': <Node element_id='4:73dec725-ccdf-437b-bfd5-623161b3662c:84' labels=frozenset({'User'}) properties={'name': 'Basliel', 'location': 'Ethiopia', 'interests': ['reading', 'hiking'], 'age': 21}>, 'g': <Node element_id='4:73dec725-ccdf-437b-bfd5-623161b3662c:104' labels=frozenset({'Group'}) properties={'name': 'interesting'}>}]\n"
     ]
    },
    {
     "name": "stdout",
     "output_type": "stream",
     "text": [
      "{'status': 'user joined group'}\n"
     ]
    }
   ],
   "source": [
    "response = requests.post('http://localhost:8080/group/join', json={\n",
    "    'group': 'interesting',\n",
    "    'user': 'Basliel'\n",
    "})\n",
    "print(response.json())"
   ]
  },
  {
   "cell_type": "code",
   "execution_count": null,
   "metadata": {},
   "outputs": [
    {
     "name": "stderr",
     "output_type": "stream",
     "text": [
      "127.0.0.1 - - [05/Jun/2024 10:12:54] \"POST /friend/recommendation HTTP/1.1\" 200 -\n"
     ]
    },
    {
     "name": "stdout",
     "output_type": "stream",
     "text": [
      "[{'ru': <Node element_id='4:73dec725-ccdf-437b-bfd5-623161b3662c:75' labels=frozenset({'User'}) properties={'name': 'Chappie', 'location': 'Ethiopia', 'interests': ['reading', 'hiking'], 'age': 21}>}, {'ru': <Node element_id='4:73dec725-ccdf-437b-bfd5-623161b3662c:95' labels=frozenset({'User'}) properties={'name': 'liel', 'location': 'San Francisco', 'interests': ['reading', 'hiking'], 'age': 50}>}]\n"
     ]
    },
    {
     "name": "stdout",
     "output_type": "stream",
     "text": [
      "{'status': 'recommended friends'}\n"
     ]
    }
   ],
   "source": [
    "response = requests.post('http://localhost:8080/friend/recommendation', json={\n",
    "    'user': 'Bob',\n",
    "})\n",
    "print(response.json())"
   ]
  },
  {
   "cell_type": "code",
   "execution_count": null,
   "metadata": {},
   "outputs": [
    {
     "name": "stderr",
     "output_type": "stream",
     "text": [
      "127.0.0.1 - - [05/Jun/2024 10:13:59] \"POST /search HTTP/1.1\" 200 -\n"
     ]
    },
    {
     "name": "stdout",
     "output_type": "stream",
     "text": [
      "[{'u': <Node element_id='4:73dec725-ccdf-437b-bfd5-623161b3662c:19' labels=frozenset({'User'}) properties={'name': 'Alice', 'location': 'San Francisco', 'interests': ['Music', 'Running'], 'age': 41}>}]\n"
     ]
    },
    {
     "name": "stdout",
     "output_type": "stream",
     "text": [
      "{'status': 'searched user'}\n"
     ]
    }
   ],
   "source": [
    "response = requests.post('http://localhost:8080/search', json={\n",
    "    'age': 41,\n",
    "})\n",
    "print(response.json())"
   ]
  }
 ],
 "metadata": {
  "kernelspec": {
   "display_name": "Python 3",
   "language": "python",
   "name": "python3"
  },
  "language_info": {
   "codemirror_mode": {
    "name": "ipython",
    "version": 3
   },
   "file_extension": ".py",
   "mimetype": "text/x-python",
   "name": "python",
   "nbconvert_exporter": "python",
   "pygments_lexer": "ipython3",
   "version": "3.12.0"
  }
 },
 "nbformat": 4,
 "nbformat_minor": 2
}
